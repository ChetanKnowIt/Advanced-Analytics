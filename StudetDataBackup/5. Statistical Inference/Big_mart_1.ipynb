{
 "cells": [
  {
   "cell_type": "code",
   "execution_count": 1,
   "id": "7a57ecc4",
   "metadata": {},
   "outputs": [],
   "source": [
    "import pandas as pd\n",
    "import numpy as np\n",
    "import os\n",
    "os.chdir(r\"C:\\Training\\AV\\Big Mart III\")\n",
    "from statsmodels.stats.anova import anova_lm\n",
    "from statsmodels.formula.api import ols\n",
    "from statsmodels.stats.multicomp import pairwise_tukeyhsd\n",
    "import matplotlib.pyplot as plt\n",
    "import seaborn as sns\n",
    "from scipy.stats import chi2_contingency"
   ]
  },
  {
   "cell_type": "code",
   "execution_count": 2,
   "id": "128112b3",
   "metadata": {},
   "outputs": [
    {
     "data": {
      "text/html": [
       "<div>\n",
       "<style scoped>\n",
       "    .dataframe tbody tr th:only-of-type {\n",
       "        vertical-align: middle;\n",
       "    }\n",
       "\n",
       "    .dataframe tbody tr th {\n",
       "        vertical-align: top;\n",
       "    }\n",
       "\n",
       "    .dataframe thead th {\n",
       "        text-align: right;\n",
       "    }\n",
       "</style>\n",
       "<table border=\"1\" class=\"dataframe\">\n",
       "  <thead>\n",
       "    <tr style=\"text-align: right;\">\n",
       "      <th></th>\n",
       "      <th>Item_Identifier</th>\n",
       "      <th>Item_Weight</th>\n",
       "      <th>Item_Fat_Content</th>\n",
       "      <th>Item_Visibility</th>\n",
       "      <th>Item_Type</th>\n",
       "      <th>Item_MRP</th>\n",
       "      <th>Outlet_Identifier</th>\n",
       "      <th>Outlet_Establishment_Year</th>\n",
       "      <th>Outlet_Size</th>\n",
       "      <th>Outlet_Location_Type</th>\n",
       "      <th>Outlet_Type</th>\n",
       "      <th>Item_Outlet_Sales</th>\n",
       "    </tr>\n",
       "  </thead>\n",
       "  <tbody>\n",
       "    <tr>\n",
       "      <th>0</th>\n",
       "      <td>FDA15</td>\n",
       "      <td>9.30</td>\n",
       "      <td>Low Fat</td>\n",
       "      <td>0.016047</td>\n",
       "      <td>Dairy</td>\n",
       "      <td>249.8092</td>\n",
       "      <td>OUT049</td>\n",
       "      <td>1999</td>\n",
       "      <td>Medium</td>\n",
       "      <td>Tier 1</td>\n",
       "      <td>Supermarket Type1</td>\n",
       "      <td>3735.1380</td>\n",
       "    </tr>\n",
       "    <tr>\n",
       "      <th>1</th>\n",
       "      <td>DRC01</td>\n",
       "      <td>5.92</td>\n",
       "      <td>Regular</td>\n",
       "      <td>0.019278</td>\n",
       "      <td>Soft Drinks</td>\n",
       "      <td>48.2692</td>\n",
       "      <td>OUT018</td>\n",
       "      <td>2009</td>\n",
       "      <td>Medium</td>\n",
       "      <td>Tier 3</td>\n",
       "      <td>Supermarket Type2</td>\n",
       "      <td>443.4228</td>\n",
       "    </tr>\n",
       "    <tr>\n",
       "      <th>2</th>\n",
       "      <td>FDN15</td>\n",
       "      <td>17.50</td>\n",
       "      <td>Low Fat</td>\n",
       "      <td>0.016760</td>\n",
       "      <td>Meat</td>\n",
       "      <td>141.6180</td>\n",
       "      <td>OUT049</td>\n",
       "      <td>1999</td>\n",
       "      <td>Medium</td>\n",
       "      <td>Tier 1</td>\n",
       "      <td>Supermarket Type1</td>\n",
       "      <td>2097.2700</td>\n",
       "    </tr>\n",
       "    <tr>\n",
       "      <th>3</th>\n",
       "      <td>FDX07</td>\n",
       "      <td>19.20</td>\n",
       "      <td>Regular</td>\n",
       "      <td>0.000000</td>\n",
       "      <td>Fruits and Vegetables</td>\n",
       "      <td>182.0950</td>\n",
       "      <td>OUT010</td>\n",
       "      <td>1998</td>\n",
       "      <td>NaN</td>\n",
       "      <td>Tier 3</td>\n",
       "      <td>Grocery Store</td>\n",
       "      <td>732.3800</td>\n",
       "    </tr>\n",
       "    <tr>\n",
       "      <th>4</th>\n",
       "      <td>NCD19</td>\n",
       "      <td>8.93</td>\n",
       "      <td>Low Fat</td>\n",
       "      <td>0.000000</td>\n",
       "      <td>Household</td>\n",
       "      <td>53.8614</td>\n",
       "      <td>OUT013</td>\n",
       "      <td>1987</td>\n",
       "      <td>High</td>\n",
       "      <td>Tier 3</td>\n",
       "      <td>Supermarket Type1</td>\n",
       "      <td>994.7052</td>\n",
       "    </tr>\n",
       "  </tbody>\n",
       "</table>\n",
       "</div>"
      ],
      "text/plain": [
       "  Item_Identifier  Item_Weight Item_Fat_Content  Item_Visibility  \\\n",
       "0           FDA15         9.30          Low Fat         0.016047   \n",
       "1           DRC01         5.92          Regular         0.019278   \n",
       "2           FDN15        17.50          Low Fat         0.016760   \n",
       "3           FDX07        19.20          Regular         0.000000   \n",
       "4           NCD19         8.93          Low Fat         0.000000   \n",
       "\n",
       "               Item_Type  Item_MRP Outlet_Identifier  \\\n",
       "0                  Dairy  249.8092            OUT049   \n",
       "1            Soft Drinks   48.2692            OUT018   \n",
       "2                   Meat  141.6180            OUT049   \n",
       "3  Fruits and Vegetables  182.0950            OUT010   \n",
       "4              Household   53.8614            OUT013   \n",
       "\n",
       "   Outlet_Establishment_Year Outlet_Size Outlet_Location_Type  \\\n",
       "0                       1999      Medium               Tier 1   \n",
       "1                       2009      Medium               Tier 3   \n",
       "2                       1999      Medium               Tier 1   \n",
       "3                       1998         NaN               Tier 3   \n",
       "4                       1987        High               Tier 3   \n",
       "\n",
       "         Outlet_Type  Item_Outlet_Sales  \n",
       "0  Supermarket Type1          3735.1380  \n",
       "1  Supermarket Type2           443.4228  \n",
       "2  Supermarket Type1          2097.2700  \n",
       "3      Grocery Store           732.3800  \n",
       "4  Supermarket Type1           994.7052  "
      ]
     },
     "execution_count": 2,
     "metadata": {},
     "output_type": "execute_result"
    }
   ],
   "source": [
    "train = pd.read_csv(\"train_v9rqX0R.csv\")\n",
    "train.head()"
   ]
  },
  {
   "cell_type": "code",
   "execution_count": 3,
   "id": "a3906fdf",
   "metadata": {},
   "outputs": [
    {
     "data": {
      "text/plain": [
       "(8523, 12)"
      ]
     },
     "execution_count": 3,
     "metadata": {},
     "output_type": "execute_result"
    }
   ],
   "source": [
    "train.shape"
   ]
  },
  {
   "cell_type": "code",
   "execution_count": 4,
   "id": "8f378911",
   "metadata": {},
   "outputs": [
    {
     "data": {
      "text/plain": [
       "array(['Dairy', 'Soft Drinks', 'Meat', 'Fruits and Vegetables',\n",
       "       'Household', 'Baking Goods', 'Snack Foods', 'Frozen Foods',\n",
       "       'Breakfast', 'Health and Hygiene', 'Hard Drinks', 'Canned',\n",
       "       'Breads', 'Starchy Foods', 'Others', 'Seafood'], dtype=object)"
      ]
     },
     "execution_count": 4,
     "metadata": {},
     "output_type": "execute_result"
    }
   ],
   "source": [
    "train['Item_Type'].unique()"
   ]
  },
  {
   "cell_type": "code",
   "execution_count": 5,
   "id": "30b7c7b5",
   "metadata": {},
   "outputs": [
    {
     "data": {
      "text/plain": [
       "16"
      ]
     },
     "execution_count": 5,
     "metadata": {},
     "output_type": "execute_result"
    }
   ],
   "source": [
    "len(train['Item_Type'].unique())"
   ]
  },
  {
   "cell_type": "markdown",
   "id": "e3ac5a95",
   "metadata": {},
   "source": [
    "### Does Item Type influence the item sales?"
   ]
  },
  {
   "cell_type": "markdown",
   "id": "aad5f879",
   "metadata": {},
   "source": [
    "##### ANOVA"
   ]
  },
  {
   "cell_type": "code",
   "execution_count": 6,
   "id": "5bd09fc1",
   "metadata": {},
   "outputs": [
    {
     "name": "stdout",
     "output_type": "stream",
     "text": [
      "                 sum_sq      df         F    PR(>F)\n",
      "Item_Type  1.176182e+08    15.0  2.700653  0.000388\n",
      "Residual   2.469965e+10  8507.0       NaN       NaN\n"
     ]
    }
   ],
   "source": [
    "type_ols = ols('Item_Outlet_Sales ~ Item_Type', data=train).fit()\n",
    "table = anova_lm(type_ols, typ=2)\n",
    "print(table)"
   ]
  },
  {
   "cell_type": "markdown",
   "id": "6752085f",
   "metadata": {},
   "source": [
    "Conclusion: Item Sales are affected by Item Type."
   ]
  },
  {
   "cell_type": "code",
   "execution_count": 7,
   "id": "1e5a4856",
   "metadata": {},
   "outputs": [
    {
     "data": {
      "image/png": "[encoded data removed]",
      "text/plain": [
       "<Figure size 640x480 with 1 Axes>"
      ]
     },
     "metadata": {},
     "output_type": "display_data"
    }
   ],
   "source": [
    "cts = train.groupby('Item_Type')['Item_Outlet_Sales'].mean()\n",
    "cts1 = cts.reset_index()\n",
    "sns.barplot(data=cts1, x='Item_Outlet_Sales', y='Item_Type')\n",
    "plt.xlabel(\"Mean Item Sales\")\n",
    "plt.ylabel(\"Item Types\")\n",
    "plt.show()"
   ]
  },
  {
   "cell_type": "markdown",
   "id": "314cb15b",
   "metadata": {},
   "source": [
    "### Does Outlet Type influence the item sales? "
   ]
  },
  {
   "cell_type": "code",
   "execution_count": 8,
   "id": "db347747",
   "metadata": {},
   "outputs": [
    {
     "data": {
      "text/plain": [
       "array(['Supermarket Type1', 'Supermarket Type2', 'Grocery Store',\n",
       "       'Supermarket Type3'], dtype=object)"
      ]
     },
     "execution_count": 8,
     "metadata": {},
     "output_type": "execute_result"
    }
   ],
   "source": [
    "train['Outlet_Type'].unique()"
   ]
  },
  {
   "cell_type": "markdown",
   "id": "14e48a15",
   "metadata": {},
   "source": [
    "##### ANOVA "
   ]
  },
  {
   "cell_type": "code",
   "execution_count": 9,
   "id": "1ab491ee",
   "metadata": {},
   "outputs": [
    {
     "name": "stdout",
     "output_type": "stream",
     "text": [
      "                   sum_sq      df           F  PR(>F)\n",
      "Outlet_Type  5.945604e+09     3.0  894.650012     0.0\n",
      "Residual     1.887166e+10  8519.0         NaN     NaN\n"
     ]
    }
   ],
   "source": [
    "type_ols = ols('Item_Outlet_Sales ~ Outlet_Type', data=train).fit()\n",
    "table = anova_lm(type_ols, typ=2)\n",
    "print(table)"
   ]
  },
  {
   "cell_type": "markdown",
   "id": "8d33d645",
   "metadata": {},
   "source": [
    "Conclusion: Outlet Type does influence item sales."
   ]
  },
  {
   "cell_type": "code",
   "execution_count": 10,
   "id": "2f8ea139",
   "metadata": {},
   "outputs": [
    {
     "data": {
      "image/png": "[encoded data removed]",
      "text/plain": [
       "<Figure size 640x480 with 1 Axes>"
      ]
     },
     "metadata": {},
     "output_type": "display_data"
    }
   ],
   "source": [
    "cts = train.groupby('Outlet_Type')['Item_Outlet_Sales'].mean()\n",
    "cts1 = cts.reset_index()\n",
    "sns.barplot(data=cts1, x='Item_Outlet_Sales', y='Outlet_Type')\n",
    "plt.xlabel(\"Mean Item Sales\")\n",
    "plt.ylabel(\"Outlet Types\")\n",
    "plt.show()"
   ]
  },
  {
   "cell_type": "markdown",
   "id": "8671ba94",
   "metadata": {},
   "source": [
    "### Does Fat content affect Sales? "
   ]
  },
  {
   "cell_type": "code",
   "execution_count": 11,
   "id": "fab77823",
   "metadata": {},
   "outputs": [
    {
     "data": {
      "text/plain": [
       "array(['Low Fat', 'Regular', 'low fat', 'LF', 'reg'], dtype=object)"
      ]
     },
     "execution_count": 11,
     "metadata": {},
     "output_type": "execute_result"
    }
   ],
   "source": [
    "train['Item_Fat_Content'].unique()"
   ]
  },
  {
   "cell_type": "code",
   "execution_count": 12,
   "id": "fdfb2fee",
   "metadata": {},
   "outputs": [
    {
     "data": {
      "text/plain": [
       "Low Fat    5089\n",
       "Regular    2889\n",
       "LF          316\n",
       "reg         117\n",
       "low fat     112\n",
       "Name: Item_Fat_Content, dtype: int64"
      ]
     },
     "execution_count": 12,
     "metadata": {},
     "output_type": "execute_result"
    }
   ],
   "source": [
    "train['Item_Fat_Content'].value_counts()"
   ]
  },
  {
   "cell_type": "code",
   "execution_count": 13,
   "id": "3064c641",
   "metadata": {},
   "outputs": [],
   "source": [
    "train['Item_Fat_Content'].replace({'low fat':'Low Fat',\n",
    "                                   'LF':'Low Fat',\n",
    "                                   'low fat': 'Low Fat',\n",
    "                                   'reg':'Regular'}, inplace=True)"
   ]
  },
  {
   "cell_type": "code",
   "execution_count": 14,
   "id": "db4093ea",
   "metadata": {},
   "outputs": [
    {
     "data": {
      "text/plain": [
       "Low Fat    5517\n",
       "Regular    3006\n",
       "Name: Item_Fat_Content, dtype: int64"
      ]
     },
     "execution_count": 14,
     "metadata": {},
     "output_type": "execute_result"
    }
   ],
   "source": [
    "train['Item_Fat_Content'].value_counts()"
   ]
  },
  {
   "cell_type": "markdown",
   "id": "706dfd26",
   "metadata": {},
   "source": [
    "##### ANOVA "
   ]
  },
  {
   "cell_type": "code",
   "execution_count": 15,
   "id": "18656940",
   "metadata": {},
   "outputs": [
    {
     "name": "stdout",
     "output_type": "stream",
     "text": [
      "                        sum_sq      df         F    PR(>F)\n",
      "Item_Fat_Content  8.695560e+06     1.0  2.986664  0.083989\n",
      "Residual          2.480857e+10  8521.0       NaN       NaN\n"
     ]
    }
   ],
   "source": [
    "type_ols = ols('Item_Outlet_Sales ~ Item_Fat_Content', data=train).fit()\n",
    "table = anova_lm(type_ols, typ=2)\n",
    "print(table)"
   ]
  },
  {
   "cell_type": "markdown",
   "id": "f07f1c46",
   "metadata": {},
   "source": [
    "Conclusion: Fat content does not affect sales."
   ]
  },
  {
   "cell_type": "code",
   "execution_count": 16,
   "id": "6d90a9ac",
   "metadata": {},
   "outputs": [
    {
     "data": {
      "image/png": "[encoded data removed]",
      "text/plain": [
       "<Figure size 640x480 with 1 Axes>"
      ]
     },
     "metadata": {},
     "output_type": "display_data"
    }
   ],
   "source": [
    "cts = train.groupby('Item_Fat_Content')['Item_Outlet_Sales'].mean()\n",
    "cts1 = cts.reset_index()\n",
    "sns.barplot(data=cts1, x='Item_Outlet_Sales', y='Item_Fat_Content')\n",
    "plt.xlabel(\"Mean Item Sales\")\n",
    "plt.ylabel(\"Fat Content\")\n",
    "plt.show()"
   ]
  },
  {
   "cell_type": "markdown",
   "id": "f57f6243",
   "metadata": {},
   "source": [
    "### Does Item Type influence Item MRP?"
   ]
  },
  {
   "cell_type": "markdown",
   "id": "c776ae2a",
   "metadata": {},
   "source": [
    "##### ANOVA "
   ]
  },
  {
   "cell_type": "code",
   "execution_count": 17,
   "id": "5bc5b477",
   "metadata": {},
   "outputs": [
    {
     "name": "stdout",
     "output_type": "stream",
     "text": [
      "                 sum_sq      df         F        PR(>F)\n",
      "Item_Type  4.121512e+05    15.0  7.161793  6.514365e-16\n",
      "Residual   3.263773e+07  8507.0       NaN           NaN\n"
     ]
    }
   ],
   "source": [
    "type_ols = ols('Item_MRP ~ Item_Type', data=train).fit()\n",
    "table = anova_lm(type_ols, typ=2)\n",
    "print(table)"
   ]
  },
  {
   "cell_type": "markdown",
   "id": "12750956",
   "metadata": {},
   "source": [
    "Conclusion: Item Type inflences Item MRP."
   ]
  },
  {
   "cell_type": "code",
   "execution_count": 18,
   "id": "506b5b57",
   "metadata": {},
   "outputs": [
    {
     "data": {
      "image/png": "[encoded data removed]",
      "text/plain": [
       "<Figure size 640x480 with 1 Axes>"
      ]
     },
     "metadata": {},
     "output_type": "display_data"
    }
   ],
   "source": [
    "cts = train.groupby('Item_Type')['Item_MRP'].mean()\n",
    "cts1 = cts.reset_index()\n",
    "sns.barplot(data=cts1, x='Item_MRP', y='Item_Type')\n",
    "plt.xlabel(\"MRP\")\n",
    "plt.ylabel(\"Item Type\")\n",
    "plt.show()"
   ]
  },
  {
   "cell_type": "markdown",
   "id": "ca1b3869",
   "metadata": {},
   "source": [
    "### Is Fat Content dependent on Item Type? "
   ]
  },
  {
   "cell_type": "markdown",
   "id": "5680adaa",
   "metadata": {},
   "source": [
    "##### $\\chi^2$ test"
   ]
  },
  {
   "cell_type": "code",
   "execution_count": 19,
   "id": "260a92ee",
   "metadata": {},
   "outputs": [
    {
     "name": "stdout",
     "output_type": "stream",
     "text": [
      "0.0\n"
     ]
    }
   ],
   "source": [
    "ctab = pd.crosstab(train['Item_Fat_Content'], train['Item_Type'])\n",
    "test_statistic, p_value, df, expected_frequencies = chi2_contingency(ctab)\n",
    "print(p_value)"
   ]
  },
  {
   "cell_type": "markdown",
   "id": "3d4b17d7",
   "metadata": {},
   "source": [
    "Conclusion: Fat Content and Item Type may be dependent."
   ]
  },
  {
   "cell_type": "markdown",
   "id": "bc4ce7d9",
   "metadata": {},
   "source": [
    "### Is Outlet Type dependent on Item Type? "
   ]
  },
  {
   "cell_type": "markdown",
   "id": "6295434e",
   "metadata": {},
   "source": [
    "##### $\\chi^2$ test"
   ]
  },
  {
   "cell_type": "code",
   "execution_count": 20,
   "id": "7e42f681",
   "metadata": {},
   "outputs": [
    {
     "name": "stdout",
     "output_type": "stream",
     "text": [
      "0.9989342767300661\n"
     ]
    }
   ],
   "source": [
    "ctab = pd.crosstab(train['Outlet_Type'], train['Item_Type'])\n",
    "test_statistic, p_value, df, expected_frequencies = chi2_contingency(ctab)\n",
    "print(p_value)"
   ]
  },
  {
   "cell_type": "markdown",
   "id": "e6dfe18a",
   "metadata": {},
   "source": [
    "Conclusion: Outlet Type and item types may be independent."
   ]
  },
  {
   "cell_type": "markdown",
   "id": "164275bc",
   "metadata": {},
   "source": [
    "### Is Outlet Location Type dependent on Item Type?"
   ]
  },
  {
   "cell_type": "markdown",
   "id": "b8fb8408",
   "metadata": {},
   "source": [
    "##### $\\chi^2$ test"
   ]
  },
  {
   "cell_type": "code",
   "execution_count": 21,
   "id": "fd10356f",
   "metadata": {},
   "outputs": [
    {
     "name": "stdout",
     "output_type": "stream",
     "text": [
      "0.9963035075844918\n"
     ]
    }
   ],
   "source": [
    "ctab = pd.crosstab(train['Outlet_Location_Type'], train['Item_Type'])\n",
    "test_statistic, p_value, df, expected_frequencies = chi2_contingency(ctab)\n",
    "print(p_value)"
   ]
  },
  {
   "cell_type": "markdown",
   "id": "9b228308",
   "metadata": {},
   "source": [
    "Conclusion: Outlet Location Type and item types may be independent."
   ]
  }
 ],
 "metadata": {
  "kernelspec": {
   "display_name": "Python 3 (ipykernel)",
   "language": "python",
   "name": "python3"
  },
  "language_info": {
   "codemirror_mode": {
    "name": "ipython",
    "version": 3
   },
   "file_extension": ".py",
   "mimetype": "text/x-python",
   "name": "python",
   "nbconvert_exporter": "python",
   "pygments_lexer": "ipython3",
   "version": "3.9.12"
  }
 },
 "nbformat": 4,
 "nbformat_minor": 5
}

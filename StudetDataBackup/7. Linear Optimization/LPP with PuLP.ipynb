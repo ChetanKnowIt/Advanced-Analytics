{
 "cells": [
  {
   "cell_type": "code",
   "execution_count": 1,
   "id": "834867f8",
   "metadata": {},
   "outputs": [],
   "source": [
    "import pulp as p"
   ]
  },
  {
   "cell_type": "markdown",
   "id": "59926ed5",
   "metadata": {},
   "source": [
    "# Problem 1"
   ]
  },
  {
   "cell_type": "markdown",
   "id": "4142cb6e",
   "metadata": {},
   "source": [
    "### Maximization"
   ]
  },
  {
   "cell_type": "code",
   "execution_count": 2,
   "id": "0183211a",
   "metadata": {},
   "outputs": [],
   "source": [
    "Lp_prob = p.LpProblem('Problem1', p.LpMaximize)"
   ]
  },
  {
   "cell_type": "markdown",
   "id": "1f156073",
   "metadata": {},
   "source": [
    "### Decision Variables "
   ]
  },
  {
   "cell_type": "code",
   "execution_count": 3,
   "id": "d2eb6c14",
   "metadata": {},
   "outputs": [],
   "source": [
    "x1 = p.LpVariable(\"x1\", lowBound = 0) # Create a variable x >= 0\n",
    "x2 = p.LpVariable(\"x2\", lowBound = 0) # Create a variable y >= 0"
   ]
  },
  {
   "cell_type": "markdown",
   "id": "b84acf28",
   "metadata": {},
   "source": [
    "### Objective Function "
   ]
  },
  {
   "cell_type": "code",
   "execution_count": 4,
   "id": "a02b10d7",
   "metadata": {},
   "outputs": [],
   "source": [
    "Lp_prob += 5*x1 + 7*x2"
   ]
  },
  {
   "cell_type": "markdown",
   "id": "e7f32170",
   "metadata": {},
   "source": [
    "### Constraints "
   ]
  },
  {
   "cell_type": "code",
   "execution_count": 5,
   "id": "dd0d60f4",
   "metadata": {},
   "outputs": [],
   "source": [
    "Lp_prob += 1*x1 + 0*x2 <= 6\n",
    "Lp_prob += 2*x1 + 3*x2 <= 19\n",
    "Lp_prob += 1*x1 + 1*x2 <= 8"
   ]
  },
  {
   "cell_type": "code",
   "execution_count": 6,
   "id": "6ba04eb0",
   "metadata": {},
   "outputs": [
    {
     "name": "stdout",
     "output_type": "stream",
     "text": [
      "Problem1:\n",
      "MAXIMIZE\n",
      "5*x1 + 7*x2 + 0\n",
      "SUBJECT TO\n",
      "_C1: x1 <= 6\n",
      "\n",
      "_C2: 2 x1 + 3 x2 <= 19\n",
      "\n",
      "_C3: x1 + x2 <= 8\n",
      "\n",
      "VARIABLES\n",
      "x1 Continuous\n",
      "x2 Continuous\n",
      "\n"
     ]
    }
   ],
   "source": [
    "print(Lp_prob)"
   ]
  },
  {
   "cell_type": "markdown",
   "id": "28b23bc5",
   "metadata": {},
   "source": [
    "### Solving the LPP "
   ]
  },
  {
   "cell_type": "code",
   "execution_count": 7,
   "id": "aae71aeb",
   "metadata": {},
   "outputs": [
    {
     "name": "stdout",
     "output_type": "stream",
     "text": [
      "Optimal\n"
     ]
    }
   ],
   "source": [
    "status = Lp_prob.solve()\n",
    "print(p.LpStatus[status])"
   ]
  },
  {
   "cell_type": "markdown",
   "id": "b25d8819",
   "metadata": {},
   "source": [
    "### Solution "
   ]
  },
  {
   "cell_type": "code",
   "execution_count": 8,
   "id": "8a2452b8",
   "metadata": {},
   "outputs": [
    {
     "name": "stdout",
     "output_type": "stream",
     "text": [
      "x1 = 5.0\n",
      "x2 = 3.0\n",
      "Objective =  46.0\n"
     ]
    }
   ],
   "source": [
    "print(\"x1 =\", p.value(x1)) \n",
    "print(\"x2 =\", p.value(x2))\n",
    "print(\"Objective = \", p.value(Lp_prob.objective))"
   ]
  },
  {
   "cell_type": "code",
   "execution_count": null,
   "id": "48fce2f1",
   "metadata": {},
   "outputs": [],
   "source": []
  },
  {
   "cell_type": "markdown",
   "id": "a5c5685f",
   "metadata": {},
   "source": [
    "# Problem 2"
   ]
  },
  {
   "cell_type": "markdown",
   "id": "69f244c1",
   "metadata": {},
   "source": [
    "### Minimization"
   ]
  },
  {
   "cell_type": "code",
   "execution_count": 9,
   "id": "6c57e4cb",
   "metadata": {},
   "outputs": [],
   "source": [
    "Lp_prob = p.LpProblem('Breweries', p.LpMinimize)"
   ]
  },
  {
   "cell_type": "markdown",
   "id": "bae06555",
   "metadata": {},
   "source": [
    "### Decision Variables "
   ]
  },
  {
   "cell_type": "code",
   "execution_count": 10,
   "id": "1f2660d5",
   "metadata": {},
   "outputs": [],
   "source": [
    "x1 = p.LpVariable(\"Solan\", lowBound = 0, ) # Create a variable x >= 0\n",
    "x2 = p.LpVariable(\"Mohan Nagar\", lowBound = 0) # Create a variable y >= 0"
   ]
  },
  {
   "cell_type": "markdown",
   "id": "d0920134",
   "metadata": {},
   "source": [
    "### Objective Function "
   ]
  },
  {
   "cell_type": "code",
   "execution_count": 11,
   "id": "0ad207c0",
   "metadata": {},
   "outputs": [],
   "source": [
    "Lp_prob += 600*x1 + 400*x2"
   ]
  },
  {
   "cell_type": "markdown",
   "id": "adfd8382",
   "metadata": {},
   "source": [
    "### Constraints "
   ]
  },
  {
   "cell_type": "code",
   "execution_count": 12,
   "id": "88b2138a",
   "metadata": {},
   "outputs": [],
   "source": [
    "Lp_prob += 1500*x1 + 1500*x2 >= 20000\n",
    "Lp_prob += 3000*x1 + 1000*x2 >= 40000\n",
    "Lp_prob += 2000*x1 + 5000*x2 >= 44000\n",
    "Lp_prob += 1*x1 + 0*x2 <= 30\n",
    "Lp_prob += 0*x1 + 1*x2 <= 30"
   ]
  },
  {
   "cell_type": "code",
   "execution_count": 13,
   "id": "a828b6b5",
   "metadata": {},
   "outputs": [
    {
     "name": "stdout",
     "output_type": "stream",
     "text": [
      "Breweries:\n",
      "MINIMIZE\n",
      "400*Mohan_Nagar + 600*Solan + 0\n",
      "SUBJECT TO\n",
      "_C1: 1500 Mohan_Nagar + 1500 Solan >= 20000\n",
      "\n",
      "_C2: 1000 Mohan_Nagar + 3000 Solan >= 40000\n",
      "\n",
      "_C3: 5000 Mohan_Nagar + 2000 Solan >= 44000\n",
      "\n",
      "_C4: Solan <= 30\n",
      "\n",
      "_C5: Mohan_Nagar <= 30\n",
      "\n",
      "VARIABLES\n",
      "Mohan_Nagar Continuous\n",
      "Solan Continuous\n",
      "\n"
     ]
    }
   ],
   "source": [
    "print(Lp_prob)"
   ]
  },
  {
   "cell_type": "markdown",
   "id": "39738dc2",
   "metadata": {},
   "source": [
    "### Solving the LPP "
   ]
  },
  {
   "cell_type": "code",
   "execution_count": 14,
   "id": "9c579adc",
   "metadata": {},
   "outputs": [
    {
     "name": "stdout",
     "output_type": "stream",
     "text": [
      "Optimal\n"
     ]
    }
   ],
   "source": [
    "status = Lp_prob.solve()\n",
    "print(p.LpStatus[status])"
   ]
  },
  {
   "cell_type": "markdown",
   "id": "6178e7ae",
   "metadata": {},
   "source": [
    "### Solution "
   ]
  },
  {
   "cell_type": "code",
   "execution_count": 15,
   "id": "e97b591d",
   "metadata": {},
   "outputs": [
    {
     "name": "stdout",
     "output_type": "stream",
     "text": [
      "x1 = 12.0\n",
      "x2 = 4.0\n",
      "Objective =  8800.0\n"
     ]
    }
   ],
   "source": [
    "print(\"x1 =\", p.value(x1)) \n",
    "print(\"x2 =\", p.value(x2))\n",
    "print(\"Objective = \", p.value(Lp_prob.objective))"
   ]
  },
  {
   "cell_type": "code",
   "execution_count": null,
   "id": "e6566530",
   "metadata": {},
   "outputs": [],
   "source": []
  },
  {
   "cell_type": "markdown",
   "id": "83d5888a",
   "metadata": {},
   "source": [
    "# Problem 3"
   ]
  },
  {
   "cell_type": "markdown",
   "id": "84629e25",
   "metadata": {},
   "source": [
    "### Minimization"
   ]
  },
  {
   "cell_type": "code",
   "execution_count": 16,
   "id": "d0c8f898",
   "metadata": {},
   "outputs": [],
   "source": [
    "Lp_prob = p.LpProblem('Manufacturing', p.LpMaximize)"
   ]
  },
  {
   "cell_type": "markdown",
   "id": "9d6c089d",
   "metadata": {},
   "source": [
    "### Decision Variables "
   ]
  },
  {
   "cell_type": "code",
   "execution_count": 17,
   "id": "85e69c36",
   "metadata": {},
   "outputs": [],
   "source": [
    "x1 = p.LpVariable(\"A\", lowBound = 0, ) # Create a variable x >= 0\n",
    "x2 = p.LpVariable(\"B\", lowBound = 0) # Create a variable y >= 0"
   ]
  },
  {
   "cell_type": "markdown",
   "id": "1629a9ea",
   "metadata": {},
   "source": [
    "### Objective Function "
   ]
  },
  {
   "cell_type": "code",
   "execution_count": 18,
   "id": "6e50e869",
   "metadata": {},
   "outputs": [],
   "source": [
    "Lp_prob += 40*x1 + 100*x2"
   ]
  },
  {
   "cell_type": "markdown",
   "id": "13fe165e",
   "metadata": {},
   "source": [
    "### Constraints "
   ]
  },
  {
   "cell_type": "code",
   "execution_count": 19,
   "id": "e07bbb11",
   "metadata": {},
   "outputs": [],
   "source": [
    "Lp_prob += 12*x1 + 6*x2 <= 3000\n",
    "Lp_prob += 4*x1 + 10*x2 <= 2000\n",
    "Lp_prob += 2*x1 + 3*x2 <= 900"
   ]
  },
  {
   "cell_type": "code",
   "execution_count": 20,
   "id": "1ca9c3a1",
   "metadata": {},
   "outputs": [
    {
     "name": "stdout",
     "output_type": "stream",
     "text": [
      "Manufacturing:\n",
      "MAXIMIZE\n",
      "40*A + 100*B + 0\n",
      "SUBJECT TO\n",
      "_C1: 12 A + 6 B <= 3000\n",
      "\n",
      "_C2: 4 A + 10 B <= 2000\n",
      "\n",
      "_C3: 2 A + 3 B <= 900\n",
      "\n",
      "VARIABLES\n",
      "A Continuous\n",
      "B Continuous\n",
      "\n"
     ]
    }
   ],
   "source": [
    "print(Lp_prob)"
   ]
  },
  {
   "cell_type": "markdown",
   "id": "dae4b18d",
   "metadata": {},
   "source": [
    "### Solving the LPP "
   ]
  },
  {
   "cell_type": "code",
   "execution_count": 21,
   "id": "f680dab5",
   "metadata": {},
   "outputs": [
    {
     "name": "stdout",
     "output_type": "stream",
     "text": [
      "Optimal\n"
     ]
    }
   ],
   "source": [
    "status = Lp_prob.solve()\n",
    "print(p.LpStatus[status])"
   ]
  },
  {
   "cell_type": "markdown",
   "id": "46b5f71c",
   "metadata": {},
   "source": [
    "### Solution "
   ]
  },
  {
   "cell_type": "code",
   "execution_count": 22,
   "id": "963d8ce6",
   "metadata": {},
   "outputs": [
    {
     "name": "stdout",
     "output_type": "stream",
     "text": [
      "x1 = 0.0\n",
      "x2 = 200.0\n",
      "Objective =  20000.0\n"
     ]
    }
   ],
   "source": [
    "print(\"x1 =\", p.value(x1)) \n",
    "print(\"x2 =\", p.value(x2))\n",
    "print(\"Objective = \", p.value(Lp_prob.objective))"
   ]
  },
  {
   "cell_type": "code",
   "execution_count": null,
   "id": "fd8643a7",
   "metadata": {},
   "outputs": [],
   "source": []
  },
  {
   "cell_type": "markdown",
   "id": "55870d9a",
   "metadata": {},
   "source": [
    "# Problem 4"
   ]
  },
  {
   "cell_type": "markdown",
   "id": "5f0679a1",
   "metadata": {},
   "source": [
    "### Minimization"
   ]
  },
  {
   "cell_type": "code",
   "execution_count": 23,
   "id": "64fa3050",
   "metadata": {},
   "outputs": [],
   "source": [
    "Lp_prob = p.LpProblem('Shampoo', p.LpMinimize)"
   ]
  },
  {
   "cell_type": "markdown",
   "id": "92301773",
   "metadata": {},
   "source": [
    "### Decision Variables "
   ]
  },
  {
   "cell_type": "code",
   "execution_count": 24,
   "id": "5ec30d8d",
   "metadata": {},
   "outputs": [],
   "source": [
    "x1 = p.LpVariable(\"Plant I\", lowBound = 0, ) # Create a variable x >= 0\n",
    "x2 = p.LpVariable(\"Plant II\", lowBound = 0) # Create a variable y >= 0"
   ]
  },
  {
   "cell_type": "markdown",
   "id": "56edd6b2",
   "metadata": {},
   "source": [
    "### Objective Function "
   ]
  },
  {
   "cell_type": "code",
   "execution_count": 25,
   "id": "a99c4c1f",
   "metadata": {},
   "outputs": [],
   "source": [
    "Lp_prob += 700*x1 + 550*x2"
   ]
  },
  {
   "cell_type": "markdown",
   "id": "d452bd8b",
   "metadata": {},
   "source": [
    "### Constraints "
   ]
  },
  {
   "cell_type": "code",
   "execution_count": 26,
   "id": "7c8f398f",
   "metadata": {},
   "outputs": [],
   "source": [
    "Lp_prob += 3000*x1 + 1000*x2 >= 24000\n",
    "Lp_prob += 1000*x1 + 1000*x2 >= 16000\n",
    "Lp_prob += 2000*x1 + 6000*x2 >= 48000"
   ]
  },
  {
   "cell_type": "code",
   "execution_count": 27,
   "id": "1c2cd658",
   "metadata": {},
   "outputs": [
    {
     "name": "stdout",
     "output_type": "stream",
     "text": [
      "Shampoo:\n",
      "MINIMIZE\n",
      "700*Plant_I + 550*Plant_II + 0\n",
      "SUBJECT TO\n",
      "_C1: 3000 Plant_I + 1000 Plant_II >= 24000\n",
      "\n",
      "_C2: 1000 Plant_I + 1000 Plant_II >= 16000\n",
      "\n",
      "_C3: 2000 Plant_I + 6000 Plant_II >= 48000\n",
      "\n",
      "VARIABLES\n",
      "Plant_I Continuous\n",
      "Plant_II Continuous\n",
      "\n"
     ]
    }
   ],
   "source": [
    "print(Lp_prob)"
   ]
  },
  {
   "cell_type": "markdown",
   "id": "4a48d1ba",
   "metadata": {},
   "source": [
    "### Solving the LPP "
   ]
  },
  {
   "cell_type": "code",
   "execution_count": 28,
   "id": "84602f10",
   "metadata": {},
   "outputs": [
    {
     "name": "stdout",
     "output_type": "stream",
     "text": [
      "Optimal\n"
     ]
    }
   ],
   "source": [
    "status = Lp_prob.solve()\n",
    "print(p.LpStatus[status])"
   ]
  },
  {
   "cell_type": "markdown",
   "id": "6d778c5a",
   "metadata": {},
   "source": [
    "### Solution "
   ]
  },
  {
   "cell_type": "code",
   "execution_count": 29,
   "id": "159dbe76",
   "metadata": {},
   "outputs": [
    {
     "name": "stdout",
     "output_type": "stream",
     "text": [
      "x1 = 4.0\n",
      "x2 = 12.0\n",
      "Objective =  9400.0\n"
     ]
    }
   ],
   "source": [
    "print(\"x1 =\", p.value(x1)) \n",
    "print(\"x2 =\", p.value(x2))\n",
    "print(\"Objective = \", p.value(Lp_prob.objective))"
   ]
  },
  {
   "cell_type": "code",
   "execution_count": null,
   "id": "2ffb4c61",
   "metadata": {},
   "outputs": [],
   "source": []
  },
  {
   "cell_type": "markdown",
   "id": "af3f5445",
   "metadata": {},
   "source": [
    "# Problem 5"
   ]
  },
  {
   "cell_type": "markdown",
   "id": "8caf6218",
   "metadata": {},
   "source": [
    "### Minimization"
   ]
  },
  {
   "cell_type": "code",
   "execution_count": 30,
   "id": "bae082c6",
   "metadata": {},
   "outputs": [],
   "source": [
    "Lp_prob = p.LpProblem('Nirmitee', p.LpMinimize)"
   ]
  },
  {
   "cell_type": "markdown",
   "id": "55050483",
   "metadata": {},
   "source": [
    "### Decision Variables "
   ]
  },
  {
   "cell_type": "code",
   "execution_count": 31,
   "id": "13be5f88",
   "metadata": {},
   "outputs": [],
   "source": [
    "x1 = p.LpVariable(\"Corn\", lowBound = 0, ) # Create a variable x >= 0\n",
    "x2 = p.LpVariable(\"Soyabean\", lowBound = 0) # Create a variable y >= 0"
   ]
  },
  {
   "cell_type": "markdown",
   "id": "89f7491b",
   "metadata": {},
   "source": [
    "### Objective Function "
   ]
  },
  {
   "cell_type": "code",
   "execution_count": 32,
   "id": "df7c8843",
   "metadata": {},
   "outputs": [],
   "source": [
    "Lp_prob += 0.3*x1 + 0.9*x2"
   ]
  },
  {
   "cell_type": "markdown",
   "id": "b4c7ac65",
   "metadata": {},
   "source": [
    "### Constraints "
   ]
  },
  {
   "cell_type": "code",
   "execution_count": 33,
   "id": "e7b3b592",
   "metadata": {},
   "outputs": [],
   "source": [
    "Lp_prob += 0.09*x1 + 0.6*x2 >= 240\n",
    "Lp_prob += 0.02*x1 + 0.06*x2 <= 40\n",
    "Lp_prob += x1 + x2 >= 800"
   ]
  },
  {
   "cell_type": "code",
   "execution_count": 34,
   "id": "a01a0166",
   "metadata": {},
   "outputs": [
    {
     "name": "stdout",
     "output_type": "stream",
     "text": [
      "Nirmitee:\n",
      "MINIMIZE\n",
      "0.3*Corn + 0.9*Soyabean + 0.0\n",
      "SUBJECT TO\n",
      "_C1: 0.09 Corn + 0.6 Soyabean >= 240\n",
      "\n",
      "_C2: 0.02 Corn + 0.06 Soyabean <= 40\n",
      "\n",
      "_C3: Corn + Soyabean >= 800\n",
      "\n",
      "VARIABLES\n",
      "Corn Continuous\n",
      "Soyabean Continuous\n",
      "\n"
     ]
    }
   ],
   "source": [
    "print(Lp_prob)"
   ]
  },
  {
   "cell_type": "markdown",
   "id": "8364188f",
   "metadata": {},
   "source": [
    "### Solving the LPP "
   ]
  },
  {
   "cell_type": "code",
   "execution_count": 35,
   "id": "c555409a",
   "metadata": {},
   "outputs": [
    {
     "name": "stdout",
     "output_type": "stream",
     "text": [
      "Optimal\n"
     ]
    }
   ],
   "source": [
    "status = Lp_prob.solve()\n",
    "print(p.LpStatus[status])"
   ]
  },
  {
   "cell_type": "markdown",
   "id": "8d54afd6",
   "metadata": {},
   "source": [
    "### Solution "
   ]
  },
  {
   "cell_type": "code",
   "execution_count": 36,
   "id": "cbc5ed04",
   "metadata": {},
   "outputs": [
    {
     "name": "stdout",
     "output_type": "stream",
     "text": [
      "x1 = 470.58824\n",
      "x2 = 329.41176\n",
      "Objective =  437.647056\n"
     ]
    }
   ],
   "source": [
    "print(\"x1 =\", p.value(x1)) \n",
    "print(\"x2 =\", p.value(x2))\n",
    "print(\"Objective = \", p.value(Lp_prob.objective))"
   ]
  }
 ],
 "metadata": {
  "kernelspec": {
   "display_name": "Python 3 (ipykernel)",
   "language": "python",
   "name": "python3"
  },
  "language_info": {
   "codemirror_mode": {
    "name": "ipython",
    "version": 3
   },
   "file_extension": ".py",
   "mimetype": "text/x-python",
   "name": "python",
   "nbconvert_exporter": "python",
   "pygments_lexer": "ipython3",
   "version": "3.9.12"
  }
 },
 "nbformat": 4,
 "nbformat_minor": 5
}
